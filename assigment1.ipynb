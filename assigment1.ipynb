{
  "nbformat": 4,
  "nbformat_minor": 0,
  "metadata": {
    "colab": {
      "provenance": []
    },
    "kernelspec": {
      "name": "python3",
      "display_name": "Python 3"
    },
    "language_info": {
      "name": "python"
    }
  },
  "cells": [
    {
      "cell_type": "code",
      "execution_count": null,
      "metadata": {
        "id": "JsdYWvo0-qls"
      },
      "outputs": [],
      "source": []
    },
    {
      "cell_type": "code",
      "source": [],
      "metadata": {
        "id": "psDP1jh_CWwz"
      },
      "execution_count": null,
      "outputs": []
    },
    {
      "cell_type": "markdown",
      "source": [],
      "metadata": {
        "id": "rF7N4kPKCZxl"
      }
    },
    {
      "cell_type": "markdown",
      "source": [
        "1. what is python and why is it popular ?\n",
        "\n",
        "**Python** is a **high-level, interpreted programming language** known for its simple and readable syntax. It was created by **Guido van Rossum** and first released in **1991**.\n",
        "\n",
        "Python supports multiple programming paradigms:\n",
        "\n",
        "* **Procedural** (step-by-step instructions)\n",
        "* **Object-Oriented** (using classes and objects)\n",
        "* **Functional** (using functions like `map`, `filter`, etc.)\n",
        "\n",
        "Python has gained massive popularity because of several key reasons:\n",
        "\n",
        "#### ✅ 1. **Simple & Readable Syntax**\n",
        "\n",
        "* Python code looks almost like English.\n",
        "* Easier to write and understand, even for beginners.\n",
        "\n",
        "```python\n",
        "print(\"Hello, world!\")\n",
        "```\n",
        "\n",
        "#### ✅ 2. **Versatile Applications**\n",
        "\n",
        "Python is used in many domains:\n",
        "\n",
        "* **Web Development** (Django, Flask)\n",
        "* **Data Science & Machine Learning** (Pandas, NumPy, scikit-learn, TensorFlow)\n",
        "* **Automation & Scripting**\n",
        "* **Game Development**\n",
        "* **Cybersecurity**\n",
        "* **IoT & Embedded Systems**\n",
        "\n",
        "#### ✅ 3. **Huge Standard Library**\n",
        "\n",
        "* Comes with many built-in modules for file handling, math, OS interaction, web services, etc.\n",
        "\n",
        "#### ✅ 4. **Large Community & Support**\n",
        "\n",
        "* Massive global community for help, tutorials, and third-party packages.\n",
        "\n",
        "#### ✅ 5. **Cross-Platform**\n",
        "\n",
        "#### Data Analysis with Python:\n",
        "\n",
        "```python\n",
        "import pandas as pd\n",
        "\n",
        "data = pd.read_csv(\"sales.csv\")\n",
        "print(data.describe())\n",
        "```\n",
        "\n",
        "Python makes tasks like data analysis **concise, powerful, and readable**—perfect for both beginners and professionals.\n",
        "\n",
        "question 2.what is an interpreter in python ?\n",
        "\n",
        "An **interpreter** is a program that **reads and executes code line by line**, translating it into machine instructions as it goes.\n",
        "\n",
        "In the case of Python:\n",
        "\n",
        "* Python is an **interpreted language**, not compiled.\n",
        "* When you write Python code (`.py` file), the **Python interpreter** (like `python3`) reads your code and executes it **line by line**.\n",
        "\n",
        "\n",
        "1. **You write code** in a file, e.g.:\n",
        "\n",
        "   ```python\n",
        "   print(\"Hello, world!\")\n",
        "\n",
        "\n",
        "1. Python interpreter reads `hello.py`.\n",
        "2. Translates it into bytecode.\n",
        "3. Passes bytecode to the **PVM**, which executes it.\n",
        "\n",
        "---\n",
        "\n",
        "### ✅ Benefits of Interpreters:\n",
        "\n",
        "* Easier to **test and debug**.\n",
        "* More **portable** across platforms.\n",
        "* Perfect for **scripting and automation**.\n",
        "\n",
        " question 3. what are pre- defined keywords in python ?\n",
        "\n",
        "**Predefined keywords** in Python are **reserved words** that have **special meaning** in the language. You **cannot** use them as variable names, function names, or identifiers.\n",
        "\n",
        "They form the **basic syntax and structure** of Python.\n",
        "\n",
        "\n",
        "Here are some commonly used keywords:\n",
        "\n",
        "| Keyword                                                | Purpose                                      |\n",
        "| ------------------------------------------------------ | -------------------------------------------- |\n",
        "| `and`, `or`, `not`                                     | Logical operations                           |\n",
        "| `if`, `elif`, `else`                                   | Conditional statements                       |\n",
        "| `for`, `while`, `break`, `continue`, `pass`            | Loops and flow control                       |\n",
        "| `def`, `return`, `lambda`                              | Functions and return values                  |\n",
        "| `class`                                                | Define a class (object-oriented programming) |\n",
        "| `import`, `from`, `as`                                 | Module importing                             |\n",
        "| `try`, `except`, `finally`, `raise`                    | Error handling                               |\n",
        "| `in`, `is`                                             | Membership and identity testing              |\n",
        "| `True`, `False`, `None`                                | Boolean values and null                      |\n",
        "| `with`, `yield`, `assert`, `global`, `nonlocal`, `del` | Special use cases                            |\n",
        "\n",
        "You can see the full list in your Python environment:\n",
        "\n",
        "```python\n",
        "import keyword\n",
        "print(keyword.kwlist)\n",
        "```\n",
        "\n",
        "This will output a list like:\n",
        "\n",
        "```python\n",
        "['False', 'None', 'True', 'and', 'as', 'assert', 'async', 'await', ..., 'yield']\n",
        "```\n",
        "\n",
        "question 4 . can keywords be used as variable namess?\n",
        "\n",
        "Keywords are **reserved words** that Python uses for its **syntax and rules**, such as `if`, `else`, `class`, `def`, etc.\n",
        "Using them as variable names would **confuse the interpreter**, since it wouldn’t know if you are referring to a command or a variable.\n",
        "\n",
        "\n",
        "```python\n",
        "if = 10   \n",
        "```\n",
        "\n",
        "This will raise:\n",
        "\n",
        "```\n",
        "SyntaxError: invalid syntax\n",
        "```\n",
        "\n",
        "---\n",
        "\n",
        "### ✅ Valid Example:\n",
        "\n",
        "```python\n",
        "value = 10  # ✔ 'value' is not a keyword\n",
        "```\n",
        "\n",
        "```python\n",
        "import keyword\n",
        "\n",
        "print(keyword.iskeyword(\"if\"))     # True\n",
        "print(keyword.iskeyword(\"score\"))  # False\n",
        "\n",
        "question 5. what is mutability in python ?\n",
        "\n",
        "In Python, **mutable** means **changeable** — an object is **mutable** if its **contents (data)** can be **changed after it is created**, **without changing its identity (memory location)**.\n",
        "\n",
        "---\n",
        "\n",
        " Example of Mutable Objects:\n",
        "\n",
        "```python\n",
        "my_list = [1, 2, 3]\n",
        "my_list[0] = 100\n",
        "print(my_list)  # Output: [100, 2, 3]\n",
        "```\n",
        "\n",
        "✅ Here, `my_list` is **mutable** because we **changed the first element** without creating a new list.\n",
        "\n",
        "---\n",
        "\n",
        "### 🔐 Mutable vs Immutable\n",
        "\n",
        "| Type    | Mutable? | Example            |\n",
        "| ------- | -------- | ------------------ |\n",
        "| `list`  | ✅ Yes    | `[1, 2, 3]`        |\n",
        "| `dict`  | ✅ Yes    | `{'a': 1, 'b': 2}` |\n",
        "| `set`   | ✅ Yes    | `{1, 2, 3}`        |\n",
        "| `str`   | ❌ No     | `\"hello\"`          |\n",
        "| `tuple` | ❌ No     | `(1, 2, 3)`        |\n",
        "| `int`   | ❌ No     | `10`               |\n",
        "| `float` | ❌ No     | `3.14`             |\n",
        "\n",
        "---\n",
        "\n",
        "### 🔍 Check Memory Identity Using `id()`\n",
        "\n",
        "```python\n",
        "x = [1, 2, 3]\n",
        "print(id(x))\n",
        "x[0] = 10\n",
        "print(id(x))  # Same ID → same object → mutable\n",
        "\n",
        "question 6 why are  list mutable, but tuples are immutable?\n",
        "\n",
        "* **Lists** are designed for **dynamic data**:\n",
        "\n",
        "  * You often need to **add, remove, or update** elements.\n",
        "  * Example: A to-do list that changes during the day.\n",
        "* **Tuples** are designed for **fixed collections**:\n",
        "\n",
        "  * They are used when data should **not change**.\n",
        "  * Example: Coordinates `(x, y)`, dates, or fixed configuration values.\n",
        "\n",
        "➡️ So, **mutability** is an intentional design decision based on use cases.\n",
        "\n",
        "---\n",
        "\n",
        "### 🧱 2. **Internal Structure**\n",
        "\n",
        "* A **list** stores pointers to its elements and has internal mechanisms to change them.\n",
        "\n",
        "  ```python\n",
        "  my_list = [1, 2, 3]\n",
        "  my_list[0] = 99  # Works fine\n",
        "  ```\n",
        "\n",
        "* A **tuple** stores its elements in a fixed structure without allowing changes.\n",
        "\n",
        "  ```python\n",
        "  my_tuple = (1, 2, 3)\n",
        "  my_tuple[0] = 99  # ❌ Error: 'tuple' object does not support item assignment\n",
        "  ```\n",
        "\n",
        "---\n",
        "\n",
        "### 🔐 3. **Safety and Performance**\n",
        "\n",
        "* **Immutability** makes **tuples safer**:\n",
        "\n",
        "  * They can be used as **dictionary keys** or in **sets**.\n",
        "  * They're **hashable** if all their elements are immutable.\n",
        "  * Example:\n",
        "\n",
        "    ```python\n",
        "    my_dict = {(1, 2): \"value\"}  # ✅ Works\n",
        "    ```\n",
        "\n",
        "* Tuples are **faster** than lists for fixed-size data because:\n",
        "\n",
        "  * Python can optimize memory usage.\n",
        "  * No overhead for resizing or tracking changes.\n",
        "\n",
        "  question7 what is the diffrence between \"==\" ans \"is\" operators in python ?\n",
        "  \n",
        "\n",
        "Both `==` and `is` are **comparison operators**, but they check **different things**:\n",
        "\n",
        "---\n",
        "\n",
        "### ✅ `==` (Equality Operator)\n",
        "\n",
        "* Checks **if the values** of two variables are the **same**.\n",
        "* Compares **contents**.\n",
        "\n",
        "```python\n",
        "a = [1, 2, 3]\n",
        "b = [1, 2, 3]\n",
        "print(a == b)   # ✅ True → values are the same\n",
        "```\n",
        "\n",
        "---\n",
        "\n",
        "### ✅ `is` (Identity Operator)\n",
        "\n",
        "* Checks **if two variables refer to the exact same object in memory**.\n",
        "* Compares **identities (memory address)**.\n",
        "\n",
        "```python\n",
        "a = [1, 2, 3]\n",
        "b = [1, 2, 3]\n",
        "print(a is b)   # ❌ False → different objects, same values\n",
        "```\n",
        "\n",
        "---\n",
        "\n",
        "### 🔬 Let's Compare with `id()`\n",
        "\n",
        "```python\n",
        "a = [1, 2, 3]\n",
        "b = [1, 2, 3]\n",
        "print(a == b)       # True → same content\n",
        "print(a is b)       # False → different memory location\n",
        "print(id(a), id(b)) # Different IDs\n",
        "```\n",
        "\n",
        "---\n",
        "\n",
        "### 💡 But `is` Can Be True Sometimes\n",
        "\n",
        "```python\n",
        "x = 5\n",
        "y = 5\n",
        "print(x is y)   # ✅ True for small integers (interned by Python)\n",
        "```\n",
        "question 8. what are logical operators in python?\n",
        "\n",
        "**Logical operators** are used to **combine multiple conditions** (Boolean expressions). They return `True` or `False` based on the logic of the expressions.\n",
        "\n",
        "---\n",
        "\n",
        " The 3 Main Logical Operators:\n",
        "\n",
        "| Operator | Name | Description                          |\n",
        "| -------- | ---- | ------------------------------------ |\n",
        "| `and`    | AND  | True if **both** conditions are True |\n",
        "| `or`     | OR   | True if **at least one** is True     |\n",
        "| `not`    | NOT  | **Reverses** the Boolean value       |\n",
        "\n",
        "---\n",
        "\n",
        "#### 1. `and` Operator\n",
        "\n",
        "```python\n",
        "x = 10\n",
        "print(x > 5 and x < 20)  # True and True → ✅ True\n",
        "print(x > 5 and x > 20)  # True and False → ❌ False\n",
        "```\n",
        "\n",
        "#### 2. `or` Operator\n",
        "\n",
        "```python\n",
        "x = 10\n",
        "print(x < 5 or x < 20)   # False or True → ✅ True\n",
        "print(x < 5 or x > 20)   # False or False → ❌ False\n",
        "```\n",
        "\n",
        "#### 3. `not` Operator\n",
        "\n",
        "```python\n",
        "x = 10\n",
        "print(not(x > 5))        # not True → ❌ False\n",
        "print(not(x < 5))        # not False → ✅ True\n",
        "```\n",
        "\n",
        "---\n",
        "\n",
        "### 🧪 Can Be Combined\n",
        "\n",
        "```python\n",
        "age = 25\n",
        "has_id = True\n",
        "\n",
        "if age > 18 and has_id:\n",
        "    print(\"Access granted\")\n",
        "\n",
        "\n",
        "question 9.what is type costing in python ?\n",
        "\n",
        "**Type casting** in Python means **converting a value from one data type to another**, such as from an `int` to a `float`, or from a `string` to an `int`.\n",
        "\n",
        "\n",
        "\n",
        "* To perform operations between **different data types**.\n",
        "* To **format** or **process** input/output data.\n",
        "* To avoid **type errors**.\n",
        "\n",
        "\n",
        "#### ✅ 1. **Implicit Type Casting** (Automatic)\n",
        "\n",
        "Python **automatically converts** data types when it makes sense.\n",
        "\n",
        "```python\n",
        "x = 5       # int\n",
        "y = 2.0     # float\n",
        "\n",
        "z = x + y   # int + float → float\n",
        "print(z)    # 7.0\n",
        "print(type(z))  # <class 'float'>\n",
        "```\n",
        "\n",
        "> Python converts `int` to `float` automatically.\n",
        "\n",
        "---\n",
        "\n",
        "#### ✅ 2. **Explicit Type Casting** (Manual)\n",
        "\n",
        "You **manually convert** data types using built-in functions:\n",
        "\n",
        "| Function  | Converts to... |\n",
        "| --------- | -------------- |\n",
        "| `int()`   | Integer        |\n",
        "| `float()` | Floating-point |\n",
        "| `str()`   | String         |\n",
        "| `bool()`  | Boolean        |\n",
        "| `list()`  | List           |\n",
        "\n",
        "##### Example:\n",
        "\n",
        "```python\n",
        "a = \"123\"\n",
        "b = int(a)    # Convert string to int\n",
        "print(b + 1)  # 124\n",
        "```\n",
        "question 10. what is the diffrence between implicit and explicit type casting?\n",
        "\n",
        "Type casting means **converting one data type to another**, like converting an `int` to a `float`, or a `string` to an `int`.\n",
        "\n",
        "---\n",
        "\n",
        "### 🔹 1. **Implicit Type Casting**\n",
        "\n",
        "👉 Done **automatically** by Python (without your instruction).\n",
        "Python converts data types during operations when it's safe to do so.\n",
        "\n",
        "#### ✅ Example:\n",
        "\n",
        "```python\n",
        "x = 5        # int\n",
        "y = 2.5      # float\n",
        "z = x + y    # int + float → float\n",
        "print(z)     # Output: 7.5\n",
        "```\n",
        "\n",
        "> Python **automatically converts** `x` (int) to float to match `y`.\n",
        "\n",
        "---\n",
        "\n",
        "### 🔸 2. **Explicit Type Casting**\n",
        "\n",
        "👉 Done **manually** by the programmer using built-in functions like `int()`, `float()`, `str()`, etc.\n",
        "\n",
        "#### ✅ Example:\n",
        "\n",
        "```python\n",
        "x = \"10\"\n",
        "y = int(x)   # Manually converting string to int\n",
        "print(y + 5) # Output: 15\n",
        "```\n",
        "\n",
        "> You **explicitly** tell Python to convert `x` from `str` to `int`.\n",
        "\n",
        "---\n",
        "\n",
        "### 🆚 Comparison Table:\n",
        "\n",
        "| Feature       | Implicit Casting       | Explicit Casting                      |\n",
        "| ------------- | ---------------------- | ------------------------------------- |\n",
        "| Who does it?  | Python (automatically) | Programmer (manually)                 |\n",
        "| Control       | No                     | Yes                                   |\n",
        "| Risk of Error | Very low               | Can raise errors (e.g. invalid input) |\n",
        "| Example       | `int + float → float`  | `int(\"5\")` converts string to int     |\n",
        "\n",
        "question 11 . what is  the purpose of coditional statement in python ?\n",
        "\n",
        "The **purpose of conditional statements in Python** is to control the **flow of a program** based on certain conditions. They allow your program to **make decisions** and **execute specific blocks of code** only when particular conditions are met.\n",
        "\n",
        "In real life, we make decisions constantly—\"If it rains, I will take an umbrella.\" Similarly, in programming, **conditional statements let the program respond to different situations**.\n",
        "\n",
        "---\n",
        "\n",
        "### 🔸 Common Conditional Statements in Python:\n",
        "\n",
        "1. **`if` statement**\n",
        "\n",
        "   * Executes a block of code if a condition is `True`.\n",
        "\n",
        "   ```python\n",
        "   age = 18\n",
        "   if age >= 18:\n",
        "       print(\"You can vote.\")\n",
        "   ```\n",
        "\n",
        "2. **`if...else` statement**\n",
        "\n",
        "   * Provides an alternative block of code if the condition is `False`.\n",
        "\n",
        "   ```python\n",
        "   age = 16\n",
        "   if age >= 18:\n",
        "       print(\"You can vote.\")\n",
        "   else:\n",
        "       print(\"You cannot vote.\")\n",
        "   ```\n",
        "\n",
        "3. **`if...elif...else` statement**\n",
        "\n",
        "   * Checks multiple conditions one by one.\n",
        "\n",
        "   ```python\n",
        "   marks = 75\n",
        "   if marks >= 90:\n",
        "       print(\"Grade A\")\n",
        "   elif marks >= 75:\n",
        "       print(\"Grade B\")\n",
        "   else:\n",
        "       print(\"Grade C\")\n",
        "\n",
        "question 12. how does  the elif statment work ?\n",
        "\n",
        "The **`elif` statement** in Python stands for **\"else if\"**, and it's used to check **multiple conditions** one after another **after an initial `if` statement**.\n",
        "\n",
        "* Python checks the `if` condition first.\n",
        "* If the `if` condition is `False`, it checks the `elif` condition.\n",
        "* You can have **multiple `elif`** blocks.\n",
        "* The moment Python finds a condition that is `True`, it executes that block and **skips all remaining conditions**.\n",
        "* If **none** of the `if` or `elif` conditions are `True`, then the optional `else` block is executed.\n",
        "\n",
        "---\n",
        "\n",
        "### 🔸 Syntax:\n",
        "\n",
        "```python\n",
        "if condition1:\n",
        "    # code if condition1 is true\n",
        "elif condition2:\n",
        "    # code if condition2 is true\n",
        "elif condition3:\n",
        "    # code if condition3 is true\n",
        "else:\n",
        "    # code if none of the above conditions are true\n",
        "```\n",
        "\n",
        "---\n",
        "\n",
        "### 🔹 Example:\n",
        "\n",
        "```python\n",
        "temperature = 30\n",
        "\n",
        "if temperature > 35:\n",
        "    print(\"It's very hot!\")\n",
        "elif temperature > 25:\n",
        "    print(\"It's warm.\")\n",
        "elif temperature > 15:\n",
        "    print(\"It's cool.\")\n",
        "else:\n",
        "    print(\"It's cold.\")\n",
        "```\n",
        "\n",
        "✅ **Output**:\n",
        "\n",
        "```\n",
        "It's warm.\n",
        "```\n",
        "\n",
        "Python checks:\n",
        "\n",
        "* Is `temperature > 35`? → ❌ No\n",
        "* Is `temperature > 25`? → ✅ Yes → it prints **\"It's warm.\"** and **stops checking further conditions**\n",
        "\n",
        "---\n",
        "question 13. what is the difference between for and while loop ?\n",
        "\n",
        "The **difference between `for` and `while` loops** in Python lies in **how and when they repeat a block of code**.\n",
        "\n",
        "---\n",
        "\n",
        "### 🔁 `for` Loop\n",
        "\n",
        "* Used when **you know in advance how many times** you want to repeat a block of code.\n",
        "* Typically used to **iterate over a sequence** (like a list, string, or range).\n",
        "\n",
        "#### 📌 Syntax:\n",
        "\n",
        "```python\n",
        "for i in range(5):\n",
        "    print(i)\n",
        "```\n",
        "\n",
        "✅ This will print numbers from 0 to 4.\n",
        "\n",
        "#### ✅ Best for:\n",
        "\n",
        "* Iterating through elements in a list or string\n",
        "* Repeating a block of code a fixed number of times\n",
        "\n",
        "---\n",
        "\n",
        "### 🔁 `while` Loop\n",
        "\n",
        "* Used when **you don’t know in advance how many times** the loop needs to run.\n",
        "* It continues **as long as a condition is `True`**.\n",
        "\n",
        "#### 📌 Syntax:\n",
        "\n",
        "```python\n",
        "i = 0\n",
        "while i < 5:\n",
        "    print(i)\n",
        "    i += 1\n",
        "```\n",
        "\n",
        "✅ This also prints numbers from 0 to 4.\n",
        "\n",
        "#### ✅ Best for:\n",
        "\n",
        "* Loops that depend on a condition being met (like user input or a sensor reading)\n",
        "* Running until something **happens** rather than for a set number of times\n",
        "\n",
        "---\n",
        "\n",
        "### 🆚 Quick Comparison:\n",
        "\n",
        "| Feature               | `for` Loop                        | `while` Loop                      |\n",
        "| --------------------- | --------------------------------- | --------------------------------- |\n",
        "| Repeats when          | Iterates over a sequence or range | Condition is `True`               |\n",
        "| Use case              | Known number of iterations        | Unknown number of iterations      |\n",
        "| Control variable      | Managed automatically             | Must be manually updated          |\n",
        "| Risk of infinite loop | Low                               | Higher if condition isn't handled |\n",
        "\n",
        "---\n",
        "\n",
        "### 🔍 Example Use Case:\n",
        "\n",
        "#### `for` loop:\n",
        "\n",
        "```python\n",
        "# Print each character in a string\n",
        "for char in \"hello\":\n",
        "    print(char)\n",
        "```\n",
        "\n",
        "#### `while` loop:\n",
        "\n",
        "```python\n",
        "# Keep asking user until they type 'exit'\n",
        "user_input = \"\"\n",
        "while user_input != \"exit\":\n",
        "    user_input = input(\"Type 'exit' to quit: \")\n",
        "\n",
        "question 14.describe a scenario where a while loop is more suitable than a for loop?\n",
        "\n",
        "### ✅ Scenario Where a `while` Loop is More Suitable:\n",
        "\n",
        "**💡 Example: User Login Attempt**\n",
        "\n",
        "Suppose you're creating a program that asks the user to enter a correct password. You don't know how many times the user might enter the wrong password — they can try as many times as needed until they get it right.\n",
        "\n",
        "This is a perfect use case for a `while` loop.\n",
        "\n",
        "---\n",
        "\n",
        "### 🔐 Code Example:\n",
        "\n",
        "```python\n",
        "correct_password = \"python123\"\n",
        "user_input = \"\"\n",
        "\n",
        "while user_input != correct_password:\n",
        "    user_input = input(\"Enter your password: \")\n",
        "\n",
        "print(\"Access granted!\")\n",
        "```\n",
        "\n",
        "---\n",
        "\n",
        "### 🔍 Why `while` is better here:\n",
        "\n",
        "* You **don’t know how many attempts** the user will need.\n",
        "* The loop continues **until a specific condition is met** (correct password).\n",
        "* Using a `for` loop would require an assumption about the number of tries, which is not ideal here.\n",
        "\n",
        "---\n",
        "\n",
        "\n",
        "\n",
        "\n",
        "\n",
        "\n",
        "\n",
        "\n",
        "\n",
        "\n",
        "\n",
        "\n",
        "\n",
        "\n",
        "\n",
        "\n",
        "\n",
        "\n",
        "\n",
        "\n",
        "\n",
        "\n",
        "\n"
      ],
      "metadata": {
        "id": "Flod9PG3-rWh"
      }
    },
    {
      "cell_type": "code",
      "source": [
        "# question 1.write a python program to print \"Hello,world!\""
      ],
      "metadata": {
        "id": "BIIwFCXNDV_L"
      },
      "execution_count": null,
      "outputs": []
    },
    {
      "cell_type": "code",
      "source": [
        "print(\"Hello,world!\")"
      ],
      "metadata": {
        "colab": {
          "base_uri": "https://localhost:8080/"
        },
        "id": "Dudf_rQ7D5nZ",
        "outputId": "cebaf3ac-f8a2-46ec-d56b-39d14767bb48"
      },
      "execution_count": null,
      "outputs": [
        {
          "output_type": "stream",
          "name": "stdout",
          "text": [
            "Hello,world!\n"
          ]
        }
      ]
    },
    {
      "cell_type": "code",
      "source": [
        "#question 2. write a python program that display your name and age.\n"
      ],
      "metadata": {
        "id": "6xzC4GdfEHa2"
      },
      "execution_count": null,
      "outputs": []
    },
    {
      "cell_type": "code",
      "source": [
        "name=input(\"enter your name\")\n",
        "age=int(input(\"enter your age\"))\n",
        "print(name)\n",
        "print(age)"
      ],
      "metadata": {
        "colab": {
          "base_uri": "https://localhost:8080/"
        },
        "id": "0IX1Hm8HAw0-",
        "outputId": "a6c3822d-201b-48fe-b5b7-f61887d8f69f"
      },
      "execution_count": null,
      "outputs": [
        {
          "output_type": "stream",
          "name": "stdout",
          "text": [
            "enter your namepallavi\n",
            "enter your age20\n",
            "pallavi\n",
            "20\n"
          ]
        }
      ]
    },
    {
      "cell_type": "code",
      "source": [
        "# question 3. write a code to print all the pre-defined keywords in python using the keyword library."
      ],
      "metadata": {
        "id": "pqV-aF26Bdjl"
      },
      "execution_count": null,
      "outputs": []
    },
    {
      "cell_type": "code",
      "source": [
        "import keyword\n",
        "print(keyword.kwlist)\n",
        "print(len(keyword.kwlist))"
      ],
      "metadata": {
        "colab": {
          "base_uri": "https://localhost:8080/"
        },
        "id": "Voc6j5FHCaSt",
        "outputId": "0110bad7-ce9e-47be-ed34-d28f289579f4"
      },
      "execution_count": null,
      "outputs": [
        {
          "output_type": "stream",
          "name": "stdout",
          "text": [
            "['False', 'None', 'True', 'and', 'as', 'assert', 'async', 'await', 'break', 'class', 'continue', 'def', 'del', 'elif', 'else', 'except', 'finally', 'for', 'from', 'global', 'if', 'import', 'in', 'is', 'lambda', 'nonlocal', 'not', 'or', 'pass', 'raise', 'return', 'try', 'while', 'with', 'yield']\n",
            "35\n"
          ]
        }
      ]
    },
    {
      "cell_type": "code",
      "source": [
        "# quenstion 4 write a program that checks if a given words is a pyhton keyword ."
      ],
      "metadata": {
        "id": "i75fUjVDDC5e"
      },
      "execution_count": null,
      "outputs": []
    },
    {
      "cell_type": "code",
      "source": [
        "import keyword\n",
        "words=input(\"enter a pre-defined keyword\")\n",
        "if keyword.iskeyword(words):\n",
        "    print(\"is a pyhton keyword word:\",words)\n",
        "else:\n",
        "    print(\"is not a python keyword word:\",words)\n"
      ],
      "metadata": {
        "colab": {
          "base_uri": "https://localhost:8080/"
        },
        "id": "A-o1rCjpFeif",
        "outputId": "ebf5f647-f718-43d8-fa0a-c534d689fefc"
      },
      "execution_count": null,
      "outputs": [
        {
          "output_type": "stream",
          "name": "stdout",
          "text": [
            "enter a pre-defined keywordhello\n",
            "is not a python keyword word: hello\n"
          ]
        }
      ]
    },
    {
      "cell_type": "code",
      "source": [
        "# question 5 create a list and tuple in pyhton and demonstrate how attempting to change an element works differently form.\n",
        "#list"
      ],
      "metadata": {
        "id": "wvfVGOjxfOg3"
      },
      "execution_count": null,
      "outputs": []
    },
    {
      "cell_type": "code",
      "source": [
        "my_list=[1,2,3,4]\n",
        "print(\"original list:\", my_list)\n",
        "my_list[0]=4\n",
        "print(\"update list is;\",my_list)\n",
        "tuple\n",
        "my_tuple={1,2,3,4}\n",
        "print(\"original is:\",my_tuple)\n",
        "my_tuple[2]= 8\n",
        "print(\"updated tuple is:\",my_tuple)\n",
        "\n"
      ],
      "metadata": {
        "colab": {
          "base_uri": "https://localhost:8080/",
          "height": 263
        },
        "id": "KgaLIgbkgCSN",
        "outputId": "4b7baf09-b782-4497-cf6c-55adfc209e73"
      },
      "execution_count": null,
      "outputs": [
        {
          "output_type": "stream",
          "name": "stdout",
          "text": [
            "original list: [1, 2, 3, 4]\n",
            "update list is; [4, 2, 3, 4]\n",
            "original is: {1, 2, 3, 4}\n"
          ]
        },
        {
          "output_type": "error",
          "ename": "TypeError",
          "evalue": "'set' object does not support item assignment",
          "traceback": [
            "\u001b[0;31m---------------------------------------------------------------------------\u001b[0m",
            "\u001b[0;31mTypeError\u001b[0m                                 Traceback (most recent call last)",
            "\u001b[0;32m/tmp/ipython-input-6-1536067966.py\u001b[0m in \u001b[0;36m<cell line: 0>\u001b[0;34m()\u001b[0m\n\u001b[1;32m      6\u001b[0m \u001b[0mmy_tuple\u001b[0m\u001b[0;34m=\u001b[0m\u001b[0;34m{\u001b[0m\u001b[0;36m1\u001b[0m\u001b[0;34m,\u001b[0m\u001b[0;36m2\u001b[0m\u001b[0;34m,\u001b[0m\u001b[0;36m3\u001b[0m\u001b[0;34m,\u001b[0m\u001b[0;36m4\u001b[0m\u001b[0;34m}\u001b[0m\u001b[0;34m\u001b[0m\u001b[0;34m\u001b[0m\u001b[0m\n\u001b[1;32m      7\u001b[0m \u001b[0mprint\u001b[0m\u001b[0;34m(\u001b[0m\u001b[0;34m\"original is:\"\u001b[0m\u001b[0;34m,\u001b[0m\u001b[0mmy_tuple\u001b[0m\u001b[0;34m)\u001b[0m\u001b[0;34m\u001b[0m\u001b[0;34m\u001b[0m\u001b[0m\n\u001b[0;32m----> 8\u001b[0;31m \u001b[0mmy_tuple\u001b[0m\u001b[0;34m[\u001b[0m\u001b[0;36m2\u001b[0m\u001b[0;34m]\u001b[0m\u001b[0;34m=\u001b[0m \u001b[0;36m8\u001b[0m\u001b[0;34m\u001b[0m\u001b[0;34m\u001b[0m\u001b[0m\n\u001b[0m\u001b[1;32m      9\u001b[0m \u001b[0mprint\u001b[0m\u001b[0;34m(\u001b[0m\u001b[0;34m\"updated tuple is:\"\u001b[0m\u001b[0;34m,\u001b[0m\u001b[0mmy_tuple\u001b[0m\u001b[0;34m)\u001b[0m\u001b[0;34m\u001b[0m\u001b[0;34m\u001b[0m\u001b[0m\n\u001b[1;32m     10\u001b[0m \u001b[0;34m\u001b[0m\u001b[0m\n",
            "\u001b[0;31mTypeError\u001b[0m: 'set' object does not support item assignment"
          ]
        }
      ]
    },
    {
      "cell_type": "code",
      "source": [
        "# question 6 .write a function to demonstrate the behaviour of mutable and immutable arguments .\n",
        "#lists are mutable"
      ],
      "metadata": {
        "id": "WOW9D1JPp9In"
      },
      "execution_count": null,
      "outputs": []
    },
    {
      "cell_type": "code",
      "source": [
        "def mutable_immutable (list,tuple):\n",
        "    my_list=[1,2,3,4]\n",
        "    print(\"my list is:\",my_list)\n",
        "# assigning new value to my list at index 0\n",
        "    my_list[0]=8\n",
        "    my_list2=my_list\n",
        "    print(\"my new list is:\",my_list2)\n",
        "#try to print tuple now\n",
        "    my_tuple={1,2,3,4}\n",
        "    print(\"my tuple is:\",my_tuple)\n",
        "#assigning new or updated value to my value at index 0\n",
        "    #my_tuple[0]=8\n",
        "    #my_tuple2=my_tuple\n",
        "    #print(\"my new tuple is:\",my_tuple2)\n",
        "mutable_immutable([],{})\n",
        "\n"
      ],
      "metadata": {
        "id": "9-FIgoRHxBTv",
        "colab": {
          "base_uri": "https://localhost:8080/"
        },
        "outputId": "b81308b3-7d1e-41f9-95b8-2f74893cffc3"
      },
      "execution_count": null,
      "outputs": [
        {
          "output_type": "stream",
          "name": "stdout",
          "text": [
            "my list is: [1, 2, 3, 4]\n",
            "my new list is: [8, 2, 3, 4]\n",
            "my tuple is: {1, 2, 3, 4}\n"
          ]
        }
      ]
    },
    {
      "cell_type": "code",
      "source": [
        "\n",
        "#question 7.write a program that performs basic arthematic operation on two userinput."
      ],
      "metadata": {
        "id": "t6DP1W1I0MU9"
      },
      "execution_count": null,
      "outputs": []
    },
    {
      "cell_type": "code",
      "source": [
        "x=int(input(\"enter a number\"))\n",
        "y=int(input(\"enter a number\"))\n",
        "print(\"sum is:\",x+y)\n",
        "print(\"differnce:\",x-y)\n",
        "print(\"multiplication\",x*y)\n",
        "print(\"division is:\",x/y)"
      ],
      "metadata": {
        "id": "rVToBXvX0d0C",
        "colab": {
          "base_uri": "https://localhost:8080/"
        },
        "outputId": "6a2c9dbb-1d2a-46e3-c40c-8ded74b55927"
      },
      "execution_count": null,
      "outputs": [
        {
          "output_type": "stream",
          "name": "stdout",
          "text": [
            "enter a number12\n",
            "enter a number13\n",
            "sum is: 25\n",
            "differnce: -1\n",
            "multiplication 156\n",
            "division is: 0.9230769230769231\n"
          ]
        }
      ]
    },
    {
      "cell_type": "code",
      "source": [
        "#question 8.write a program to demonstrate the use of logical operator.\n",
        "#logical operator are \"AND\",\"OR\",\"NOT\"."
      ],
      "metadata": {
        "id": "D4lSKRxKO8OA"
      },
      "execution_count": null,
      "outputs": []
    },
    {
      "cell_type": "code",
      "source": [
        "x=int(input(\"enter a number\"))\n",
        "y=int(input(\"enter a number\"))\n",
        "#and opetator both should be true otherwise i will count as false\n",
        "if(x>0 and y>0):\n",
        "  print(\"AND: both number should be positive(true)\")\n",
        "else:\n",
        "  print(\"AND: if any one gets odd print(False)\")\n",
        "\n",
        "#or operator one should be true\n",
        "if(x>0 or y>0):\n",
        "  print(\"True: both or any one number should be positive(true)\")\n",
        "else:\n",
        "  print(\"True: both side odd print(False)\")\n",
        "\n",
        "# not operator\n",
        "if (x>0):\n",
        "  print(\"NOT: x is not positive\")\n",
        "else:\n",
        "  print(\"NOT: x is positive\")"
      ],
      "metadata": {
        "id": "pfMr04LrPb8g",
        "colab": {
          "base_uri": "https://localhost:8080/"
        },
        "outputId": "b6e391c7-b41a-453a-e590-9a601893d8d7"
      },
      "execution_count": 5,
      "outputs": [
        {
          "output_type": "stream",
          "name": "stdout",
          "text": [
            "enter a number18\n",
            "enter a number14\n",
            "AND: both number should be positive(true)\n",
            "True: both or any one number should be positive(true)\n",
            "NOT: x is not positive\n"
          ]
        }
      ]
    },
    {
      "cell_type": "code",
      "source": [
        "# question 9. write a python program to convert user input from string to integer, float and boolean types."
      ],
      "metadata": {
        "id": "vZzxtk9BXwyR"
      },
      "execution_count": null,
      "outputs": []
    },
    {
      "cell_type": "code",
      "source": [
        "x=input(\"enter a number\")\n",
        "int_val=int(x)\n",
        "print(\"int value is:\",int_val)\n",
        "float_val=float(int_val)\n",
        "print(\"float value is:\",float_val)\n",
        "boolean_val=bool(float_val)\n",
        "print(\"boolean value is:\",boolean_val)"
      ],
      "metadata": {
        "colab": {
          "base_uri": "https://localhost:8080/"
        },
        "id": "owviuzt0YHtH",
        "outputId": "0e158754-d828-4426-891a-9d069d51f779"
      },
      "execution_count": 6,
      "outputs": [
        {
          "output_type": "stream",
          "name": "stdout",
          "text": [
            "enter a number12\n",
            "int value is: 12\n",
            "float value is: 12.0\n",
            "boolean value is: True\n"
          ]
        }
      ]
    },
    {
      "cell_type": "code",
      "source": [
        "#queston 10. write a code to demonstrate type castinng with list elements."
      ],
      "metadata": {
        "id": "vKaRHQUuZF_6"
      },
      "execution_count": null,
      "outputs": []
    },
    {
      "cell_type": "code",
      "source": [
        "my_list=[\"1\",\"2\",\"3\",\"4\"]\n",
        "print(\"my list is: \",my_list)\n",
        "int_list=[int(x)for x in my_list] # list comprehension\n",
        "print(\"new list is :\",int_list)\n",
        "for x in int_list:\n",
        "    print(f\"value:{x},type:{type(x)}\")\n",
        "float_list=[float(x) for x in int_list]\n",
        "print(\"2nd new list is:\",float_list)\n",
        "for x in float_list:\n",
        "   print(f\"value:{x},type:{type(x)}\")\n",
        ""
      ],
      "metadata": {
        "colab": {
          "base_uri": "https://localhost:8080/"
        },
        "id": "JL21vHEbZWkA",
        "outputId": "0a4951bc-48f9-422a-8a66-833144957f22"
      },
      "execution_count": 8,
      "outputs": [
        {
          "output_type": "stream",
          "name": "stdout",
          "text": [
            "my list is:  ['1', '2', '3', '4']\n",
            "new list is : [1, 2, 3, 4]\n",
            "value:1,type:<class 'int'>\n",
            "value:2,type:<class 'int'>\n",
            "value:3,type:<class 'int'>\n",
            "value:4,type:<class 'int'>\n",
            "2nd new list is: [1.0, 2.0, 3.0, 4.0]\n",
            "value:1.0,type:<class 'float'>\n",
            "value:2.0,type:<class 'float'>\n",
            "value:3.0,type:<class 'float'>\n",
            "value:4.0,type:<class 'float'>\n"
          ]
        }
      ]
    },
    {
      "cell_type": "code",
      "source": [
        "# question 11. write a program that checks if a number is positive,negative or zero."
      ],
      "metadata": {
        "id": "NQ1Xb0Yia4mb"
      },
      "execution_count": null,
      "outputs": []
    },
    {
      "cell_type": "code",
      "source": [
        "num=int(input(\"enter a number:\"))\n",
        "if num>0:\n",
        "  print(\"the number is positive:\")\n",
        "elif num<0:\n",
        "  print(\"the number is negative\")\n",
        "elif num==0:\n",
        "  print(\"thr number is zero:\")\n"
      ],
      "metadata": {
        "colab": {
          "base_uri": "https://localhost:8080/"
        },
        "id": "d1hVwcXwbwPp",
        "outputId": "dabb15e4-cbcf-4fb0-dcb1-dc097c69a48a"
      },
      "execution_count": 9,
      "outputs": [
        {
          "output_type": "stream",
          "name": "stdout",
          "text": [
            "enter a number:23\n",
            "the number is positive:\n"
          ]
        }
      ]
    },
    {
      "cell_type": "code",
      "source": [
        "# question 12. write a for loop to print number from 1to 10."
      ],
      "metadata": {
        "id": "39onjyh-cfLE"
      },
      "execution_count": null,
      "outputs": []
    },
    {
      "cell_type": "code",
      "source": [
        "for i in range(1,11):\n",
        "  print(i)"
      ],
      "metadata": {
        "colab": {
          "base_uri": "https://localhost:8080/"
        },
        "id": "hzQPjryacrKX",
        "outputId": "d56fa57b-0e9c-4ae9-c7ba-2163d5db53d5"
      },
      "execution_count": 10,
      "outputs": [
        {
          "output_type": "stream",
          "name": "stdout",
          "text": [
            "1\n",
            "2\n",
            "3\n",
            "4\n",
            "5\n",
            "6\n",
            "7\n",
            "8\n",
            "9\n",
            "10\n"
          ]
        }
      ]
    },
    {
      "cell_type": "code",
      "source": [
        "# question 13. write a pyhton programto find the sum of all even numbers between 1 to 50."
      ],
      "metadata": {
        "id": "oHIwPqw2c4yL"
      },
      "execution_count": null,
      "outputs": []
    },
    {
      "cell_type": "code",
      "source": [
        "count=1\n",
        "total=0\n",
        "while count<50:\n",
        "  if count%2==0:\n",
        "      total+=count\n",
        "  print(\"even\")\n",
        "  count+=1\n",
        "  print(\"sum of even numbers from 1 to 50 is:\",total)"
      ],
      "metadata": {
        "colab": {
          "base_uri": "https://localhost:8080/"
        },
        "id": "PMbP4mE4dItD",
        "outputId": "462e6dc3-fcd4-4336-f093-bdf221909b6a"
      },
      "execution_count": 11,
      "outputs": [
        {
          "output_type": "stream",
          "name": "stdout",
          "text": [
            "even\n",
            "sum of even numbers from 1 to 50 is: 0\n",
            "even\n",
            "sum of even numbers from 1 to 50 is: 2\n",
            "even\n",
            "sum of even numbers from 1 to 50 is: 2\n",
            "even\n",
            "sum of even numbers from 1 to 50 is: 6\n",
            "even\n",
            "sum of even numbers from 1 to 50 is: 6\n",
            "even\n",
            "sum of even numbers from 1 to 50 is: 12\n",
            "even\n",
            "sum of even numbers from 1 to 50 is: 12\n",
            "even\n",
            "sum of even numbers from 1 to 50 is: 20\n",
            "even\n",
            "sum of even numbers from 1 to 50 is: 20\n",
            "even\n",
            "sum of even numbers from 1 to 50 is: 30\n",
            "even\n",
            "sum of even numbers from 1 to 50 is: 30\n",
            "even\n",
            "sum of even numbers from 1 to 50 is: 42\n",
            "even\n",
            "sum of even numbers from 1 to 50 is: 42\n",
            "even\n",
            "sum of even numbers from 1 to 50 is: 56\n",
            "even\n",
            "sum of even numbers from 1 to 50 is: 56\n",
            "even\n",
            "sum of even numbers from 1 to 50 is: 72\n",
            "even\n",
            "sum of even numbers from 1 to 50 is: 72\n",
            "even\n",
            "sum of even numbers from 1 to 50 is: 90\n",
            "even\n",
            "sum of even numbers from 1 to 50 is: 90\n",
            "even\n",
            "sum of even numbers from 1 to 50 is: 110\n",
            "even\n",
            "sum of even numbers from 1 to 50 is: 110\n",
            "even\n",
            "sum of even numbers from 1 to 50 is: 132\n",
            "even\n",
            "sum of even numbers from 1 to 50 is: 132\n",
            "even\n",
            "sum of even numbers from 1 to 50 is: 156\n",
            "even\n",
            "sum of even numbers from 1 to 50 is: 156\n",
            "even\n",
            "sum of even numbers from 1 to 50 is: 182\n",
            "even\n",
            "sum of even numbers from 1 to 50 is: 182\n",
            "even\n",
            "sum of even numbers from 1 to 50 is: 210\n",
            "even\n",
            "sum of even numbers from 1 to 50 is: 210\n",
            "even\n",
            "sum of even numbers from 1 to 50 is: 240\n",
            "even\n",
            "sum of even numbers from 1 to 50 is: 240\n",
            "even\n",
            "sum of even numbers from 1 to 50 is: 272\n",
            "even\n",
            "sum of even numbers from 1 to 50 is: 272\n",
            "even\n",
            "sum of even numbers from 1 to 50 is: 306\n",
            "even\n",
            "sum of even numbers from 1 to 50 is: 306\n",
            "even\n",
            "sum of even numbers from 1 to 50 is: 342\n",
            "even\n",
            "sum of even numbers from 1 to 50 is: 342\n",
            "even\n",
            "sum of even numbers from 1 to 50 is: 380\n",
            "even\n",
            "sum of even numbers from 1 to 50 is: 380\n",
            "even\n",
            "sum of even numbers from 1 to 50 is: 420\n",
            "even\n",
            "sum of even numbers from 1 to 50 is: 420\n",
            "even\n",
            "sum of even numbers from 1 to 50 is: 462\n",
            "even\n",
            "sum of even numbers from 1 to 50 is: 462\n",
            "even\n",
            "sum of even numbers from 1 to 50 is: 506\n",
            "even\n",
            "sum of even numbers from 1 to 50 is: 506\n",
            "even\n",
            "sum of even numbers from 1 to 50 is: 552\n",
            "even\n",
            "sum of even numbers from 1 to 50 is: 552\n",
            "even\n",
            "sum of even numbers from 1 to 50 is: 600\n",
            "even\n",
            "sum of even numbers from 1 to 50 is: 600\n"
          ]
        }
      ]
    },
    {
      "cell_type": "code",
      "source": [
        "# question 14 write a program to reverse a string using while loop."
      ],
      "metadata": {
        "id": "o38-2BxWeDuA"
      },
      "execution_count": null,
      "outputs": []
    },
    {
      "cell_type": "code",
      "source": [
        "text=input(\"enter a string:\")\n",
        "reversed_text=\"\"\n",
        "index = len(text)-1\n",
        "while index>0:\n",
        "  reversed_text+=text[index]\n",
        "  index-=1\n",
        "  print(\"reversed string is:\",reversed_text)"
      ],
      "metadata": {
        "colab": {
          "base_uri": "https://localhost:8080/"
        },
        "id": "Y4y71I58eOzR",
        "outputId": "c35605a7-fb57-4064-873c-50bc059520f8"
      },
      "execution_count": 18,
      "outputs": [
        {
          "output_type": "stream",
          "name": "stdout",
          "text": [
            "enter a string:pallavi\n",
            "reversed string is: i\n",
            "reversed string is: iv\n",
            "reversed string is: iva\n",
            "reversed string is: ival\n",
            "reversed string is: ivall\n",
            "reversed string is: ivalla\n"
          ]
        }
      ]
    },
    {
      "cell_type": "code",
      "source": [
        "# question 15. write a python program to calculate the factorial of a number provided by the using a while loop."
      ],
      "metadata": {
        "id": "TgCeoaK3ff1L"
      },
      "execution_count": null,
      "outputs": []
    },
    {
      "cell_type": "code",
      "source": [
        "num=int(input('enter a number:'))\n",
        "f=1\n",
        "count=1\n",
        "while count<=num:\n",
        "    f=f*count\n",
        "    count+=1\n",
        "print(\"factorial of\",num,\"is\",f)"
      ],
      "metadata": {
        "colab": {
          "base_uri": "https://localhost:8080/"
        },
        "id": "yA-q_nl98-Vw",
        "outputId": "1ce80294-f6f2-4a4e-b67c-9e30ef1387ee"
      },
      "execution_count": 61,
      "outputs": [
        {
          "output_type": "stream",
          "name": "stdout",
          "text": [
            "enter a number:15\n",
            "factorial of 15 is 1307674368000\n"
          ]
        }
      ]
    }
  ]
}